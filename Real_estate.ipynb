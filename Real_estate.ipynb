{
  "nbformat": 4,
  "nbformat_minor": 0,
  "metadata": {
    "colab": {
      "name": "Real_estate.ipynb",
      "provenance": [],
      "collapsed_sections": []
    },
    "kernelspec": {
      "name": "python3",
      "display_name": "Python 3"
    }
  },
  "cells": [
    {
      "cell_type": "markdown",
      "metadata": {
        "id": "GqjPSea_DnD2",
        "colab_type": "text"
      },
      "source": [
        "## Web Scraping Real Estate"
      ]
    },
    {
      "cell_type": "markdown",
      "metadata": {
        "id": "OPjnAyJTdECb",
        "colab_type": "text"
      },
      "source": [
        "\n",
        "\n",
        "---\n",
        "We will be scraping the real estate data from **Makaan.com**  for the \n",
        "properties listed for sale in hyderabad. We will scrape the first 500 pages of the listing.\n",
        "\n",
        "Libaries used :\n",
        " * Pandas\n",
        " * Requests\n",
        " * BeautifulSoup\n",
        " * Time\n",
        " * Random"
      ]
    },
    {
      "cell_type": "code",
      "metadata": {
        "id": "Eu8NbW3Og4Ay",
        "colab_type": "code",
        "colab": {}
      },
      "source": [
        "#import pandas, requests, beautifulsoup, time and random\n",
        "\n",
        "import pandas as pd \n",
        "import requests\n",
        "from bs4 import BeautifulSoup\n",
        "from time import time   \n",
        "from time import sleep \n",
        "from IPython.core.display import clear_output\n",
        "from random import randint"
      ],
      "execution_count": 0,
      "outputs": []
    },
    {
      "cell_type": "code",
      "metadata": {
        "id": "o5E8a2vQ42ST",
        "colab_type": "code",
        "colab": {
          "base_uri": "https://localhost:8080/",
          "height": 34
        },
        "outputId": "50489556-6629-4fe6-969c-da56a793293f"
      },
      "source": [
        "Agent = []                    #Name of the agent\n",
        "BHK_Apartment = []            #Number of BHK\n",
        "Price_in_lakhs = []           #Price of the apartment in lakhs\n",
        "Per_square_ft_price = []      #Price per square feet\n",
        "Apartment_size = []           #Size of the aprtment\n",
        "Status = []                   #Status of the apar\n",
        "\n",
        "\n",
        "#monitoring the loop\n",
        "start_time = time()\n",
        "request = 0\n",
        "\n",
        "#crawl through first 500 pages\n",
        "for pages in range(1,501):\n",
        "  response = requests.get('https://www.makaan.com/hyderabad-residential-property/buy-property-in-hyderabad-city?budget=,&page=' + str(pages))\n",
        "\n",
        "  #pause and wait for 3-6 sec\n",
        "  sleep(randint(3,6))\n",
        "  \n",
        "  #Monitor the request\n",
        "  request += 1\n",
        "  elapsed_time = time() - start_time\n",
        "  print('Request:{}; Frequency: {} requests_per_sec'.format(request, request/elapsed_time))\n",
        "  clear_output(wait = True)\n",
        "\n",
        "  #pass html parser and find all the 'li' tags\n",
        "  soup = BeautifulSoup(response.text,'html.parser')\n",
        "  property_list = soup.find_all('li',class_='cardholder')\n",
        "\n",
        "  #iterate through all the list\n",
        "  for lst in property_list:\n",
        "\n",
        "    #if proerty has seller info\n",
        "    if lst.find('div', class_ = 'seller-info') is not None:\n",
        "\n",
        "      #find name of the seller and append it ine Agent list\n",
        "      name = lst.a.text\n",
        "      Agent.append(name)\n",
        "\n",
        "      #find number of bhk and append it in BHK_Apartment\n",
        "      apartment = lst.find('div',class_='title-line').span.text\n",
        "      BHK_Apartment.append(apartment)\n",
        "\n",
        "      #Find price of the apartment and append it in Price in lakhs\n",
        "      price = lst.tbody.div.span.text\n",
        "      Price_in_lakhs.append(price)\n",
        "\n",
        "      #Find price per square feet and append it in per_square_ft_price\n",
        "      sqt_price = lst.find('td',class_='lbl rate').text\n",
        "      Per_square_ft_price.append(sqt_price)\n",
        "\n",
        "      #find size of the apartment and append it in Apartment_size\n",
        "      a_size = lst.find('td',class_ = 'size').span.text\n",
        "      Apartment_size.append(a_size)\n",
        "\n",
        "      #find the status of the apartment and append it in Status\n",
        "      stat = lst.find('td',class_ = 'val').text \n",
        "      Status.append(stat)\n"
      ],
      "execution_count": 2,
      "outputs": [
        {
          "output_type": "stream",
          "text": [
            "Request:500; Frequency: 0.16616523715358814 requests_per_sec\n"
          ],
          "name": "stdout"
        }
      ]
    },
    {
      "cell_type": "code",
      "metadata": {
        "id": "U9Vgwmz6Quqa",
        "colab_type": "code",
        "colab": {
          "base_uri": "https://localhost:8080/",
          "height": 238
        },
        "outputId": "4fc4ec6f-59f7-40da-ae22-85945c48cb4f"
      },
      "source": [
        "#create a dataframe with column names ---> \n",
        "  #Agent -----> Name of the agent\n",
        "  #BHK_Apartment ------> Number of BHK\n",
        "  #Price_in_lakhs -----> Price of the apartment in lakhs\n",
        "  #Per_square_ft_price ---> Price per square feet\n",
        "  #Apartment_Size ------> Size of the aprtment\n",
        "  #Status ------------> Status of the apartment (New,Re-sale,Ready to move etc)\n",
        "\n",
        "Hyderabad_apartments = pd.DataFrame({'Agent' : Agent, 'BHK_Apartment' : BHK_Apartment,'Price_in_lakhs' : Price_in_lakhs,\n",
        "                                     'Per_Square_ft_price' : Per_square_ft_price, 'Aprtment_Size' : Apartment_size, 'Status' : Status})\n",
        "Hyderabad_apartments.info() "
      ],
      "execution_count": 5,
      "outputs": [
        {
          "output_type": "stream",
          "text": [
            "<class 'pandas.core.frame.DataFrame'>\n",
            "RangeIndex: 10000 entries, 0 to 9999\n",
            "Data columns (total 6 columns):\n",
            " #   Column               Non-Null Count  Dtype \n",
            "---  ------               --------------  ----- \n",
            " 0   Agent                10000 non-null  object\n",
            " 1   BHK_Apartment        10000 non-null  object\n",
            " 2   Price_in_lakhs       10000 non-null  object\n",
            " 3   Per_Square_ft_price  10000 non-null  object\n",
            " 4   Aprtment_Size        10000 non-null  object\n",
            " 5   Status               10000 non-null  object\n",
            "dtypes: object(6)\n",
            "memory usage: 468.9+ KB\n"
          ],
          "name": "stdout"
        }
      ]
    },
    {
      "cell_type": "code",
      "metadata": {
        "id": "yc2gaZrTCP4j",
        "colab_type": "code",
        "colab": {
          "base_uri": "https://localhost:8080/",
          "height": 359
        },
        "outputId": "0ebca542-fa0b-4017-ad80-a1a26b9fee79"
      },
      "source": [
        "#Print Head\n",
        "Hyderabad_apartments.head(10)"
      ],
      "execution_count": 6,
      "outputs": [
        {
          "output_type": "execute_result",
          "data": {
            "text/html": [
              "<div>\n",
              "<style scoped>\n",
              "    .dataframe tbody tr th:only-of-type {\n",
              "        vertical-align: middle;\n",
              "    }\n",
              "\n",
              "    .dataframe tbody tr th {\n",
              "        vertical-align: top;\n",
              "    }\n",
              "\n",
              "    .dataframe thead th {\n",
              "        text-align: right;\n",
              "    }\n",
              "</style>\n",
              "<table border=\"1\" class=\"dataframe\">\n",
              "  <thead>\n",
              "    <tr style=\"text-align: right;\">\n",
              "      <th></th>\n",
              "      <th>Agent</th>\n",
              "      <th>BHK_Apartment</th>\n",
              "      <th>Price_in_lakhs</th>\n",
              "      <th>Per_Square_ft_price</th>\n",
              "      <th>Aprtment_Size</th>\n",
              "      <th>Status</th>\n",
              "    </tr>\n",
              "  </thead>\n",
              "  <tbody>\n",
              "    <tr>\n",
              "      <th>0</th>\n",
              "      <td>CMG Builders</td>\n",
              "      <td>4</td>\n",
              "      <td>3.12</td>\n",
              "      <td>6,800 / sq ft</td>\n",
              "      <td>4600</td>\n",
              "      <td>Under Construction</td>\n",
              "    </tr>\n",
              "    <tr>\n",
              "      <th>1</th>\n",
              "      <td>Giridhari Homes</td>\n",
              "      <td>3</td>\n",
              "      <td>84.04</td>\n",
              "      <td>4,600 / sq ft</td>\n",
              "      <td>1827</td>\n",
              "      <td>Under Construction</td>\n",
              "    </tr>\n",
              "    <tr>\n",
              "      <th>2</th>\n",
              "      <td>SS Green Projects</td>\n",
              "      <td>3</td>\n",
              "      <td>1.65</td>\n",
              "      <td>6,899 / sq ft</td>\n",
              "      <td>2405</td>\n",
              "      <td>Ready to move</td>\n",
              "    </tr>\n",
              "    <tr>\n",
              "      <th>3</th>\n",
              "      <td>Accurate Developers</td>\n",
              "      <td>3</td>\n",
              "      <td>1.03</td>\n",
              "      <td>6,290 / sq ft</td>\n",
              "      <td>1645</td>\n",
              "      <td>Under Construction</td>\n",
              "    </tr>\n",
              "    <tr>\n",
              "      <th>4</th>\n",
              "      <td>Nikhila Constructions And Developers</td>\n",
              "      <td>3</td>\n",
              "      <td>59.99</td>\n",
              "      <td>4,002 / sq ft</td>\n",
              "      <td>1500</td>\n",
              "      <td>Under Construction</td>\n",
              "    </tr>\n",
              "    <tr>\n",
              "      <th>5</th>\n",
              "      <td>Jd Real Estate</td>\n",
              "      <td>Residential Plot</td>\n",
              "      <td>58.46</td>\n",
              "      <td>3,400 / sq ft</td>\n",
              "      <td>1720</td>\n",
              "      <td>New</td>\n",
              "    </tr>\n",
              "    <tr>\n",
              "      <th>6</th>\n",
              "      <td>Om Sree Builders Developers</td>\n",
              "      <td>4</td>\n",
              "      <td>1.93</td>\n",
              "      <td>5,100 / sq ft</td>\n",
              "      <td>3795</td>\n",
              "      <td>Under Construction</td>\n",
              "    </tr>\n",
              "    <tr>\n",
              "      <th>7</th>\n",
              "      <td>Vishal Projects Limited</td>\n",
              "      <td>4</td>\n",
              "      <td>2.6</td>\n",
              "      <td>6,133 / sq ft</td>\n",
              "      <td>4252</td>\n",
              "      <td>Under Construction</td>\n",
              "    </tr>\n",
              "    <tr>\n",
              "      <th>8</th>\n",
              "      <td>Maruthi Developers</td>\n",
              "      <td>2</td>\n",
              "      <td>62.98</td>\n",
              "      <td>4,700 / sq ft</td>\n",
              "      <td>1340</td>\n",
              "      <td>Ready to move</td>\n",
              "    </tr>\n",
              "    <tr>\n",
              "      <th>9</th>\n",
              "      <td>Risinia Builders</td>\n",
              "      <td>2</td>\n",
              "      <td>56.98</td>\n",
              "      <td>4,400 / sq ft</td>\n",
              "      <td>1295</td>\n",
              "      <td>Under Construction</td>\n",
              "    </tr>\n",
              "  </tbody>\n",
              "</table>\n",
              "</div>"
            ],
            "text/plain": [
              "                                  Agent  ...              Status\n",
              "0                          CMG Builders  ...  Under Construction\n",
              "1                       Giridhari Homes  ...  Under Construction\n",
              "2                     SS Green Projects  ...       Ready to move\n",
              "3                   Accurate Developers  ...  Under Construction\n",
              "4  Nikhila Constructions And Developers  ...  Under Construction\n",
              "5                        Jd Real Estate  ...                 New\n",
              "6           Om Sree Builders Developers  ...  Under Construction\n",
              "7               Vishal Projects Limited  ...  Under Construction\n",
              "8                    Maruthi Developers  ...       Ready to move\n",
              "9                      Risinia Builders  ...  Under Construction\n",
              "\n",
              "[10 rows x 6 columns]"
            ]
          },
          "metadata": {
            "tags": []
          },
          "execution_count": 6
        }
      ]
    },
    {
      "cell_type": "code",
      "metadata": {
        "id": "Kw0SJtCsAHfy",
        "colab_type": "code",
        "colab": {}
      },
      "source": [
        "#download the data in local system\n",
        "Hyderabad_apartments.to_csv('Hyderabad_Apartments.csv')\n",
        "!cp Hyderabad_Apartments.csv '/content/drive/My Drive/data_s'"
      ],
      "execution_count": 0,
      "outputs": []
    },
    {
      "cell_type": "code",
      "metadata": {
        "id": "BoDzbKLxDSyF",
        "colab_type": "code",
        "colab": {}
      },
      "source": [
        ""
      ],
      "execution_count": 0,
      "outputs": []
    }
  ]
}